{
 "cells": [
  {
   "cell_type": "code",
   "execution_count": 1,
   "id": "bd9cbd0a",
   "metadata": {},
   "outputs": [],
   "source": [
    "from fastembed import TextEmbedding\n",
    "import numpy as np"
   ]
  },
  {
   "cell_type": "code",
   "execution_count": 2,
   "id": "dcfaa531",
   "metadata": {},
   "outputs": [],
   "source": [
    "model = TextEmbedding(model_name=\"jinaai/jina-embeddings-v2-small-en\")"
   ]
  },
  {
   "cell_type": "code",
   "execution_count": 3,
   "id": "43942add",
   "metadata": {},
   "outputs": [],
   "source": [
    "query = \"I just discovered the course. Can I join now?\"\n",
    "embedding = list(model.embed([query]))[0]"
   ]
  },
  {
   "cell_type": "code",
   "execution_count": 5,
   "id": "39ca5377",
   "metadata": {},
   "outputs": [
    {
     "name": "stdout",
     "output_type": "stream",
     "text": [
      "Shape of the embedding array: (512,)\n"
     ]
    }
   ],
   "source": [
    "embedding_array = np.array(embedding)\n",
    "print(f\"Shape of the embedding array: {embedding_array.shape}\")"
   ]
  },
  {
   "cell_type": "code",
   "execution_count": null,
   "id": "4f2b405c",
   "metadata": {},
   "outputs": [],
   "source": [
    "min_value = np.min(embedding_array)\n",
    "print(f\"Minimum value in the embedding array: {min_value}\")"
   ]
  }
 ],
 "metadata": {
  "kernelspec": {
   "display_name": "base",
   "language": "python",
   "name": "python3"
  },
  "language_info": {
   "codemirror_mode": {
    "name": "ipython",
    "version": 3
   },
   "file_extension": ".py",
   "mimetype": "text/x-python",
   "name": "python",
   "nbconvert_exporter": "python",
   "pygments_lexer": "ipython3",
   "version": "3.12.7"
  }
 },
 "nbformat": 4,
 "nbformat_minor": 5
}

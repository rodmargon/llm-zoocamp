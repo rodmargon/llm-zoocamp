{
 "cells": [
  {
   "cell_type": "code",
   "execution_count": 1,
   "id": "4a37aecc",
   "metadata": {},
   "outputs": [],
   "source": [
    "!python -m pip install -q fastembed"
   ]
  },
  {
   "cell_type": "code",
   "execution_count": 10,
   "id": "bd9cbd0a",
   "metadata": {},
   "outputs": [],
   "source": [
    "from fastembed import TextEmbedding\n",
    "from qdrant_client import QdrantClient, models\n",
    "import numpy as np"
   ]
  },
  {
   "cell_type": "code",
   "execution_count": 4,
   "id": "544fe6be",
   "metadata": {},
   "outputs": [],
   "source": [
    "client = QdrantClient(\"http://localhost:6333\")"
   ]
  },
  {
   "cell_type": "code",
   "execution_count": 5,
   "id": "302cd7eb",
   "metadata": {},
   "outputs": [],
   "source": [
    "import requests\n",
    "\n",
    "docs_url = 'https://github.com/alexeygrigorev/llm-rag-workshop/raw/main/notebooks/documents.json'\n",
    "docs_response = requests.get(docs_url)\n",
    "documents_raw = docs_response.json()"
   ]
  },
  {
   "cell_type": "code",
   "execution_count": null,
   "id": "dcfaa531",
   "metadata": {},
   "outputs": [],
   "source": [
    "embedder = TextEmbedding(model_name=\"jinaai/jina-embeddings-v2-small-en\")"
   ]
  },
  {
   "cell_type": "code",
   "execution_count": 12,
   "id": "43942add",
   "metadata": {},
   "outputs": [],
   "source": [
    "query = \"I just discovered the course. Can I join now?\"\n",
    "embedding = embedder.embed([query])"
   ]
  },
  {
   "cell_type": "code",
   "execution_count": 13,
   "id": "39ca5377",
   "metadata": {},
   "outputs": [],
   "source": [
    "embedding_array = np.array(embedding)"
   ]
  },
  {
   "cell_type": "code",
   "execution_count": 25,
   "id": "5b664827",
   "metadata": {},
   "outputs": [
    {
     "name": "stdout",
     "output_type": "stream",
     "text": [
      "<generator object TextEmbedding.embed at 0x000001B713AB31F0>\n"
     ]
    }
   ],
   "source": [
    "minimal_value = np.min(embedding_array)\n",
    "print(minimal_value)"
   ]
  }
 ],
 "metadata": {
  "kernelspec": {
   "display_name": "base",
   "language": "python",
   "name": "python3"
  },
  "language_info": {
   "codemirror_mode": {
    "name": "ipython",
    "version": 3
   },
   "file_extension": ".py",
   "mimetype": "text/x-python",
   "name": "python",
   "nbconvert_exporter": "python",
   "pygments_lexer": "ipython3",
   "version": "3.12.7"
  }
 },
 "nbformat": 4,
 "nbformat_minor": 5
}

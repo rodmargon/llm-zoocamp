{
 "cells": [
  {
   "cell_type": "code",
   "execution_count": 1,
   "id": "bd9cbd0a",
   "metadata": {},
   "outputs": [],
   "source": [
    "from fastembed import TextEmbedding\n",
    "import numpy as np"
   ]
  },
  {
   "cell_type": "code",
   "execution_count": 2,
   "id": "dcfaa531",
   "metadata": {},
   "outputs": [],
   "source": [
    "model = TextEmbedding(model_name=\"jinaai/jina-embeddings-v2-small-en\")"
   ]
  },
  {
   "cell_type": "code",
   "execution_count": 3,
   "id": "43942add",
   "metadata": {},
   "outputs": [],
   "source": [
    "query = \"I just discovered the course. Can I join now?\"\n",
    "embedding = list(model.embed([query]))[0]"
   ]
  },
  {
   "cell_type": "code",
   "execution_count": 4,
   "id": "39ca5377",
   "metadata": {},
   "outputs": [
    {
     "name": "stdout",
     "output_type": "stream",
     "text": [
      "Shape of the embedding array: (512,)\n"
     ]
    }
   ],
   "source": [
    "embedding_array = np.array(embedding)\n",
    "print(f\"Shape of the embedding array: {embedding_array.shape}\")"
   ]
  },
  {
   "cell_type": "code",
   "execution_count": 5,
   "id": "4f2b405c",
   "metadata": {},
   "outputs": [
    {
     "name": "stdout",
     "output_type": "stream",
     "text": [
      "Minimum value in the embedding array: -0.11726373885183883\n"
     ]
    }
   ],
   "source": [
    "min_value = np.min(embedding_array)\n",
    "print(f\"Minimum value in the embedding array: {min_value}\")"
   ]
  },
  {
   "cell_type": "code",
   "execution_count": 7,
   "id": "44f56808",
   "metadata": {},
   "outputs": [
    {
     "data": {
      "text/plain": [
       "1.0000000000000002"
      ]
     },
     "execution_count": 7,
     "metadata": {},
     "output_type": "execute_result"
    }
   ],
   "source": [
    "np.linalg.norm(embedding_array)\n",
    "embedding_array.dot(embedding_array)"
   ]
  },
  {
   "cell_type": "code",
   "execution_count": 8,
   "id": "aae11898",
   "metadata": {},
   "outputs": [],
   "source": [
    "query2 = \"Can I still join the course after the start date?\"\n",
    "embedding2 = list(model.embed([query2]))[0]"
   ]
  },
  {
   "cell_type": "code",
   "execution_count": 9,
   "id": "73f791c4",
   "metadata": {},
   "outputs": [],
   "source": [
    "embedding_array2 = np.array(embedding2)"
   ]
  },
  {
   "cell_type": "code",
   "execution_count": 10,
   "id": "4256666a",
   "metadata": {},
   "outputs": [
    {
     "data": {
      "text/plain": [
       "0.9008528895674548"
      ]
     },
     "execution_count": 10,
     "metadata": {},
     "output_type": "execute_result"
    }
   ],
   "source": [
    "np.linalg.norm(embedding_array2)\n",
    "embedding_array.dot(embedding_array2)"
   ]
  },
  {
   "cell_type": "code",
   "execution_count": 11,
   "id": "48eeabd7",
   "metadata": {},
   "outputs": [],
   "source": [
    "documents = [{'text': \"Yes, even if you don't register, you're still eligible to submit the homeworks.\\nBe aware, however, that there will be deadlines for turning in the final projects. So don't leave everything for the last minute.\",\n",
    "  'section': 'General course-related questions',\n",
    "  'question': 'Course - Can I still join the course after the start date?',\n",
    "  'course': 'data-engineering-zoomcamp'},\n",
    " {'text': 'Yes, we will keep all the materials after the course finishes, so you can follow the course at your own pace after it finishes.\\nYou can also continue looking at the homeworks and continue preparing for the next cohort. I guess you can also start working on your final capstone project.',\n",
    "  'section': 'General course-related questions',\n",
    "  'question': 'Course - Can I follow the course after it finishes?',\n",
    "  'course': 'data-engineering-zoomcamp'},\n",
    " {'text': \"The purpose of this document is to capture frequently asked technical questions\\nThe exact day and hour of the course will be 15th Jan 2024 at 17h00. The course will start with the first  “Office Hours'' live.1\\nSubscribe to course public Google Calendar (it works from Desktop only).\\nRegister before the course starts using this link.\\nJoin the course Telegram channel with announcements.\\nDon’t forget to register in DataTalks.Club's Slack and join the channel.\",\n",
    "  'section': 'General course-related questions',\n",
    "  'question': 'Course - When will the course start?',\n",
    "  'course': 'data-engineering-zoomcamp'},\n",
    " {'text': 'You can start by installing and setting up all the dependencies and requirements:\\nGoogle cloud account\\nGoogle Cloud SDK\\nPython 3 (installed with Anaconda)\\nTerraform\\nGit\\nLook over the prerequisites and syllabus to see if you are comfortable with these subjects.',\n",
    "  'section': 'General course-related questions',\n",
    "  'question': 'Course - What can I do before the course starts?',\n",
    "  'course': 'data-engineering-zoomcamp'},\n",
    " {'text': 'Star the repo! Share it with friends if you find it useful ❣️\\nCreate a PR if you see you can improve the text or the structure of the repository.',\n",
    "  'section': 'General course-related questions',\n",
    "  'question': 'How can we contribute to the course?',\n",
    "  'course': 'data-engineering-zoomcamp'}]"
   ]
  },
  {
   "cell_type": "code",
   "execution_count": 12,
   "id": "51aeb9ee",
   "metadata": {},
   "outputs": [],
   "source": [
    "document_embeddings = []\n",
    "for doc in documents:\n",
    "    embedding = np.array(list(model.embed([doc['text']]))[0])\n",
    "    document_embeddings.append(embedding)"
   ]
  },
  {
   "cell_type": "code",
   "execution_count": 13,
   "id": "61a17ccf",
   "metadata": {},
   "outputs": [],
   "source": [
    "def cosine_similarity(vec1, vec2):\n",
    "    return np.dot(vec1, vec2) / (np.linalg.norm(vec1) * np.linalg.norm(vec2))"
   ]
  },
  {
   "cell_type": "code",
   "execution_count": 14,
   "id": "b009f55b",
   "metadata": {},
   "outputs": [],
   "source": [
    "similarities = [cosine_similarity(embedding, doc_embedding) for doc_embedding in document_embeddings]"
   ]
  },
  {
   "cell_type": "code",
   "execution_count": 15,
   "id": "d8ef6c78",
   "metadata": {},
   "outputs": [
    {
     "name": "stdout",
     "output_type": "stream",
     "text": [
      "Document index with the highest similarity: 4\n"
     ]
    }
   ],
   "source": [
    "most_similar_index = np.argmax(similarities)\n",
    "print(f\"Document index with the highest similarity: {most_similar_index}\")"
   ]
  },
  {
   "cell_type": "code",
   "execution_count": 16,
   "id": "fef6915e",
   "metadata": {},
   "outputs": [],
   "source": [
    "document_embeddings_full_text = []\n",
    "for doc in documents:\n",
    "    full_text = doc['question'] + ' ' + doc['text']\n",
    "    embedding = np.array(list(model.embed([full_text]))[0])\n",
    "    document_embeddings_full_text.append(embedding)"
   ]
  },
  {
   "cell_type": "code",
   "execution_count": 17,
   "id": "851bf4ad",
   "metadata": {},
   "outputs": [],
   "source": [
    "similarities = [cosine_similarity(embedding, doc_embedding) for doc_embedding in document_embeddings_full_text]"
   ]
  },
  {
   "cell_type": "code",
   "execution_count": 18,
   "id": "5cf72d56",
   "metadata": {},
   "outputs": [
    {
     "name": "stdout",
     "output_type": "stream",
     "text": [
      "Document index with the highest similarity: 4\n"
     ]
    }
   ],
   "source": [
    "most_similar_index = np.argmax(similarities)\n",
    "print(f\"Document index with the highest similarity: {most_similar_index}\")"
   ]
  },
  {
   "cell_type": "code",
   "execution_count": 19,
   "id": "f75610b9",
   "metadata": {},
   "outputs": [
    {
     "name": "stdout",
     "output_type": "stream",
     "text": [
      "BAAI/bge-base-en 768\n",
      "BAAI/bge-base-en-v1.5 768\n",
      "BAAI/bge-large-en-v1.5 1024\n",
      "BAAI/bge-small-en 384\n",
      "BAAI/bge-small-en-v1.5 384\n",
      "BAAI/bge-small-zh-v1.5 512\n",
      "mixedbread-ai/mxbai-embed-large-v1 1024\n",
      "snowflake/snowflake-arctic-embed-xs 384\n",
      "snowflake/snowflake-arctic-embed-s 384\n",
      "snowflake/snowflake-arctic-embed-m 768\n",
      "snowflake/snowflake-arctic-embed-m-long 768\n",
      "snowflake/snowflake-arctic-embed-l 1024\n",
      "jinaai/jina-clip-v1 768\n",
      "Qdrant/clip-ViT-B-32-text 512\n",
      "sentence-transformers/all-MiniLM-L6-v2 384\n",
      "jinaai/jina-embeddings-v2-base-en 768\n",
      "jinaai/jina-embeddings-v2-small-en 512\n",
      "jinaai/jina-embeddings-v2-base-de 768\n",
      "jinaai/jina-embeddings-v2-base-code 768\n",
      "jinaai/jina-embeddings-v2-base-zh 768\n",
      "jinaai/jina-embeddings-v2-base-es 768\n",
      "thenlper/gte-base 768\n",
      "thenlper/gte-large 1024\n",
      "nomic-ai/nomic-embed-text-v1.5 768\n",
      "nomic-ai/nomic-embed-text-v1.5-Q 768\n",
      "nomic-ai/nomic-embed-text-v1 768\n",
      "sentence-transformers/paraphrase-multilingual-MiniLM-L12-v2 384\n",
      "sentence-transformers/paraphrase-multilingual-mpnet-base-v2 768\n",
      "intfloat/multilingual-e5-large 1024\n",
      "jinaai/jina-embeddings-v3 1024\n"
     ]
    }
   ],
   "source": [
    "for model in TextEmbedding.list_supported_models():\n",
    "    print(model[\"model\"], model[\"dim\"])"
   ]
  },
  {
   "cell_type": "code",
   "execution_count": 20,
   "id": "67f66617",
   "metadata": {},
   "outputs": [
    {
     "name": "stdout",
     "output_type": "stream",
     "text": [
      "Minimum dimensionality: 384\n"
     ]
    }
   ],
   "source": [
    "dims = [model[\"dim\"] for model in TextEmbedding.list_supported_models()]\n",
    "min_dim = min(dims)\n",
    "print(\"Minimum dimensionality:\", min_dim)"
   ]
  }
 ],
 "metadata": {
  "kernelspec": {
   "display_name": "base",
   "language": "python",
   "name": "python3"
  },
  "language_info": {
   "codemirror_mode": {
    "name": "ipython",
    "version": 3
   },
   "file_extension": ".py",
   "mimetype": "text/x-python",
   "name": "python",
   "nbconvert_exporter": "python",
   "pygments_lexer": "ipython3",
   "version": "3.12.7"
  }
 },
 "nbformat": 4,
 "nbformat_minor": 5
}

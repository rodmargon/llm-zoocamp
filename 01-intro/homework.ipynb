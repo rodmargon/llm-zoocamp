{
 "cells": [
  {
   "cell_type": "code",
   "execution_count": 8,
   "id": "055f6868-ce60-49e9-849a-053869fd973f",
   "metadata": {},
   "outputs": [],
   "source": [
    "import openai"
   ]
  },
  {
   "cell_type": "code",
   "execution_count": 9,
   "id": "16573889-7151-4264-8879-c8f16c268135",
   "metadata": {},
   "outputs": [],
   "source": [
    "from openai import OpenAI"
   ]
  },
  {
   "cell_type": "code",
   "execution_count": 12,
   "id": "200052bf-1ef4-485f-88d6-d3daf496e365",
   "metadata": {
    "scrolled": true
   },
   "outputs": [],
   "source": [
    "client = OpenAI()"
   ]
  },
  {
   "cell_type": "code",
   "execution_count": 18,
   "id": "d78dab5d-c2a2-4499-9832-4fbe2dd1181e",
   "metadata": {},
   "outputs": [],
   "source": [
    "response = client.chat.completions.create(\n",
    "    model='gpt-4o',\n",
    "    messages=[{\"role\":\"user\", \"content\" : \"is it too late to join the course?\"}]\n",
    ")"
   ]
  },
  {
   "cell_type": "code",
   "execution_count": 19,
   "id": "29e68b8c-3240-4858-9f78-f4c48215fe03",
   "metadata": {},
   "outputs": [
    {
     "data": {
      "text/plain": [
       "\"I would need more context to provide a specific answer. It depends on the course in question, including its enrollment deadlines, start date, and duration. Some courses allow late enrollment, sometimes with a penalty or a reduced time to complete assignments, while others may have strict deadlines. I recommend checking the course's official website or contacting the course provider or instructor directly for detailed information about enrollment deadlines and options for joining late.\""
      ]
     },
     "execution_count": 19,
     "metadata": {},
     "output_type": "execute_result"
    }
   ],
   "source": [
    "response.choices[0].message.content"
   ]
  },
  {
   "cell_type": "code",
   "execution_count": null,
   "id": "0c8bcec2-41ca-443b-8600-cb7f166e545f",
   "metadata": {},
   "outputs": [],
   "source": []
  }
 ],
 "metadata": {
  "kernelspec": {
   "display_name": "Python 3 (ipykernel)",
   "language": "python",
   "name": "python3"
  },
  "language_info": {
   "codemirror_mode": {
    "name": "ipython",
    "version": 3
   },
   "file_extension": ".py",
   "mimetype": "text/x-python",
   "name": "python",
   "nbconvert_exporter": "python",
   "pygments_lexer": "ipython3",
   "version": "3.12.1"
  }
 },
 "nbformat": 4,
 "nbformat_minor": 5
}
